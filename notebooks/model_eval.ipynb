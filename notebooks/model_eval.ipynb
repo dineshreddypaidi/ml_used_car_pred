{
 "cells": [
  {
   "cell_type": "code",
   "execution_count": 1,
   "id": "2c6b6971-3d65-4be2-be72-6c52c3178316",
   "metadata": {},
   "outputs": [],
   "source": [
    "import pandas as pd\n",
    "from sklearn.model_selection import cross_val_score\n",
    "import numpy as np"
   ]
  },
  {
   "cell_type": "code",
   "execution_count": 2,
   "id": "9f6237b6-1ef0-4dc3-b73b-1f3b69eb065b",
   "metadata": {},
   "outputs": [],
   "source": [
    "from sklearn.linear_model import LinearRegression\n",
    "from sklearn.svm import SVR\n",
    "from sklearn.tree import DecisionTreeRegressor\n",
    "from sklearn.ensemble import RandomForestRegressor"
   ]
  },
  {
   "cell_type": "code",
   "execution_count": 3,
   "id": "21353b04-64ed-4407-a359-bd1810500df4",
   "metadata": {},
   "outputs": [],
   "source": [
    "data = pd.read_csv(\"../data/processed/data.csv\")"
   ]
  },
  {
   "cell_type": "code",
   "execution_count": null,
   "id": "a022b626-1690-4e13-a673-64dbaa98eaa3",
   "metadata": {},
   "outputs": [],
   "source": []
  },
  {
   "cell_type": "code",
   "execution_count": 4,
   "id": "a3d3e3a3-cae3-43aa-8358-0bfe0b4e9fe2",
   "metadata": {},
   "outputs": [],
   "source": [
    "X = data.drop(columns=['selling_price'])\n",
    "\n",
    "y = data['selling_price']"
   ]
  },
  {
   "cell_type": "code",
   "execution_count": 5,
   "id": "3e9c9ef0-e9b3-466c-895b-a75fe79d9c60",
   "metadata": {},
   "outputs": [],
   "source": [
    "model1 = LinearRegression()\n",
    "\n",
    "model2 = SVR()\n",
    "\n",
    "model3 = DecisionTreeRegressor()\n",
    "\n",
    "model4 = RandomForestRegressor()"
   ]
  },
  {
   "cell_type": "code",
   "execution_count": 6,
   "id": "f6273490-4b58-46ed-91ad-ccf85b48b1ce",
   "metadata": {},
   "outputs": [
    {
     "data": {
      "text/plain": [
       "(15242, 12)"
      ]
     },
     "execution_count": 6,
     "metadata": {},
     "output_type": "execute_result"
    }
   ],
   "source": [
    "data.shape"
   ]
  },
  {
   "cell_type": "code",
   "execution_count": 7,
   "id": "7928ecf6-249b-4ca9-8661-e5d666ecc893",
   "metadata": {},
   "outputs": [
    {
     "name": "stdout",
     "output_type": "stream",
     "text": [
      "<class 'pandas.core.frame.DataFrame'>\n",
      "RangeIndex: 15242 entries, 0 to 15241\n",
      "Data columns (total 12 columns):\n",
      " #   Column             Non-Null Count  Dtype  \n",
      "---  ------             --------------  -----  \n",
      " 0   brand              15242 non-null  int64  \n",
      " 1   model              15242 non-null  int64  \n",
      " 2   vehicle_age        15242 non-null  int64  \n",
      " 3   km_driven          15242 non-null  int64  \n",
      " 4   seller_type        15242 non-null  int64  \n",
      " 5   fuel_type          15242 non-null  int64  \n",
      " 6   transmission_type  15242 non-null  int64  \n",
      " 7   mileage            15242 non-null  float64\n",
      " 8   engine             15242 non-null  int64  \n",
      " 9   max_power          15242 non-null  float64\n",
      " 10  seats              15242 non-null  int64  \n",
      " 11  selling_price      15242 non-null  int64  \n",
      "dtypes: float64(2), int64(10)\n",
      "memory usage: 1.4 MB\n"
     ]
    }
   ],
   "source": [
    "data.info()"
   ]
  },
  {
   "cell_type": "code",
   "execution_count": 8,
   "id": "4966da9d-ed90-4049-bd48-3d1c7870f7e3",
   "metadata": {},
   "outputs": [],
   "source": [
    "X_train = X[0:15000]\n",
    "X_test = X[15000:15242]\n",
    "\n",
    "y_train = y[0:15000]\n",
    "y_test = y[15000:15242]"
   ]
  },
  {
   "cell_type": "code",
   "execution_count": 9,
   "id": "07533a61-468b-484d-b64c-bc8766c9e1e3",
   "metadata": {},
   "outputs": [],
   "source": [
    "model1_scores = cross_val_score(model1, X_train, y_train, cv=10)\n",
    "\n",
    "model2_scores = cross_val_score(model2, X_train, y_train, cv=10)\n",
    "\n",
    "model3_scores = cross_val_score(model3, X_train, y_train, cv=10)\n",
    "\n",
    "model4_scores = cross_val_score(model4, X_train, y_train, cv=10)"
   ]
  },
  {
   "cell_type": "code",
   "execution_count": 47,
   "id": "d804c3a5-0fc4-4c75-99df-9ebf2712f782",
   "metadata": {},
   "outputs": [],
   "source": [
    "final_scores = pd.DataFrame(\n",
    "    {\n",
    "        'model' : ['linear_reg','svr','decisiontree','randomforest'],\n",
    "        'cross_eval_scores' : [np.average(model1_scores),np.average(model2_scores),np.average(model3_scores),np.average(model4_scores)],\n",
    "    }\n",
    ")"
   ]
  },
  {
   "cell_type": "code",
   "execution_count": 48,
   "id": "125c1ab8-f14c-49d9-bbd7-02b8c71b1938",
   "metadata": {},
   "outputs": [
    {
     "data": {
      "text/html": [
       "<div>\n",
       "<style scoped>\n",
       "    .dataframe tbody tr th:only-of-type {\n",
       "        vertical-align: middle;\n",
       "    }\n",
       "\n",
       "    .dataframe tbody tr th {\n",
       "        vertical-align: top;\n",
       "    }\n",
       "\n",
       "    .dataframe thead th {\n",
       "        text-align: right;\n",
       "    }\n",
       "</style>\n",
       "<table border=\"1\" class=\"dataframe\">\n",
       "  <thead>\n",
       "    <tr style=\"text-align: right;\">\n",
       "      <th></th>\n",
       "      <th>model</th>\n",
       "      <th>cross_eval_scores</th>\n",
       "    </tr>\n",
       "  </thead>\n",
       "  <tbody>\n",
       "    <tr>\n",
       "      <th>0</th>\n",
       "      <td>linear_reg</td>\n",
       "      <td>0.644567</td>\n",
       "    </tr>\n",
       "    <tr>\n",
       "      <th>1</th>\n",
       "      <td>svr</td>\n",
       "      <td>-0.065803</td>\n",
       "    </tr>\n",
       "    <tr>\n",
       "      <th>2</th>\n",
       "      <td>decisiontree</td>\n",
       "      <td>0.803347</td>\n",
       "    </tr>\n",
       "    <tr>\n",
       "      <th>3</th>\n",
       "      <td>randomforest</td>\n",
       "      <td>0.897698</td>\n",
       "    </tr>\n",
       "  </tbody>\n",
       "</table>\n",
       "</div>"
      ],
      "text/plain": [
       "          model  cross_eval_scores\n",
       "0    linear_reg           0.644567\n",
       "1           svr          -0.065803\n",
       "2  decisiontree           0.803347\n",
       "3  randomforest           0.897698"
      ]
     },
     "execution_count": 48,
     "metadata": {},
     "output_type": "execute_result"
    }
   ],
   "source": [
    "final_scores"
   ]
  },
  {
   "cell_type": "code",
   "execution_count": 49,
   "id": "9fa39c9a-9b53-49c8-affd-08764aec8d81",
   "metadata": {},
   "outputs": [],
   "source": [
    "# we use random forest algorith for our model"
   ]
  },
  {
   "cell_type": "code",
   "execution_count": null,
   "id": "bbf7918a-a6d4-4923-b6c0-8e13cd89c880",
   "metadata": {},
   "outputs": [],
   "source": []
  }
 ],
 "metadata": {
  "kernelspec": {
   "display_name": "Python 3 (ipykernel)",
   "language": "python",
   "name": "python3"
  },
  "language_info": {
   "codemirror_mode": {
    "name": "ipython",
    "version": 3
   },
   "file_extension": ".py",
   "mimetype": "text/x-python",
   "name": "python",
   "nbconvert_exporter": "python",
   "pygments_lexer": "ipython3",
   "version": "3.12.2"
  },
  "widgets": {
   "application/vnd.jupyter.widget-state+json": {
    "state": {},
    "version_major": 2,
    "version_minor": 0
   }
  }
 },
 "nbformat": 4,
 "nbformat_minor": 5
}
